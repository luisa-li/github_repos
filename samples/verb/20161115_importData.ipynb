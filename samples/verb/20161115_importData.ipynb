{
 "cells": [
  {
   "cell_type": "markdown",
   "metadata": {},
   "source": [
    "# Import Data\n",
    "\n",
    "* Walk data directories\n",
    "* load images (PIL)\n",
    "* resample, flatten, & metadata tag\n",
    "* Output"
   ]
  },
  {
   "cell_type": "code",
   "execution_count": null,
   "metadata": {
    "collapsed": true
   },
   "outputs": [],
   "source": [
    "%matplotlib inline\n",
    "from tqdm import tqdm_notebook as tqdm\n",
    "import matplotlib.pyplot as plt\n",
    "import pandas as pd\n",
    "import numpy as np\n",
    "import glob\n",
    "import PIL\n",
    "import os"
   ]
  },
  {
   "cell_type": "code",
   "execution_count": null,
   "metadata": {
    "collapsed": true
   },
   "outputs": [],
   "source": [
    "NX, NY = 128,128 # max width and height to resample\n",
    "INPATTERN = '/Users/ajmendez/Downloads/dilbert2012/*.jpg'\n",
    "OUTFORMAT = '/Users/ajmendez/data/dilbert/2012/{basename}'"
   ]
  },
  {
   "cell_type": "code",
   "execution_count": null,
   "metadata": {
    "collapsed": false
   },
   "outputs": [],
   "source": [
    "from itertools import product\n",
    "list(product(['a', 'b'], ['c', 'd', 'e']))"
   ]
  },
  {
   "cell_type": "code",
   "execution_count": null,
   "metadata": {
    "collapsed": false
   },
   "outputs": [],
   "source": [
    "def convertWeekday(image, outpattern):\n",
    "    xmin,xmax = [5,199]\n",
    "    ymin,ymax = [3,197]\n",
    "    for j, xoffset in enumerate([0, 218, 436]):\n",
    "        img = image.crop((xoffset+xmin, ymin, xoffset+xmax-xmin, ymax-ymin))\n",
    "        img.thumbnail((NX,NY), PIL.Image.ANTIALIAS)\n",
    "        img.convert('L').save(outpattern.format(j=j))\n",
    "\n",
    "def convertWeekend(image, outpattern):\n",
    "    xmin,xmax = [9,145]\n",
    "    ymin,ymax = [1,137]\n",
    "    xoffsets = [0, 160, 322, 486]\n",
    "    yoffsets = [0, 149]\n",
    "    # Remember people read left to right -- top to bottom\n",
    "    for j,(yoffset, xoffset) in enumerate(product(yoffsets, xoffsets)):\n",
    "        img = image.crop((xoffset + xmin, \n",
    "                          yoffset + ymin, \n",
    "                          xoffset + xmax - xmin, \n",
    "                          yoffset + ymax - ymin))\n",
    "        img.thumbnail((NX,NY), PIL.Image.ANTIALIAS)\n",
    "        img.convert('L').save(outpattern.format(j=j))"
   ]
  },
  {
   "cell_type": "code",
   "execution_count": null,
   "metadata": {
    "collapsed": false
   },
   "outputs": [],
   "source": [
    "for i,filename in enumerate(tqdm(sorted(glob.glob(INPATTERN)))):\n",
    "    \n",
    "    # outpattern is used to output the frames\n",
    "    basename = os.path.basename(filename).replace('-colour.jpg', '.{j}.jpg')\n",
    "    dirname = os.path.dirname(OUTFORMAT)\n",
    "    outpattern = OUTFORMAT.format(basename=basename)\n",
    "    if os.path.exists(outpattern.format(j=1)):\n",
    "        continue\n",
    "    if not os.path.exists(dirname):\n",
    "        os.makedirs(dirname)\n",
    "    \n",
    "    if os.path.getsize(filename) == 0:\n",
    "        print('Check on: {}'.format(filename))\n",
    "        continue\n",
    "#     img = plt.imread(filename)\n",
    "    with PIL.Image.open(filename) as img:\n",
    "        if abs(img.height-288) < 2:\n",
    "            # Sunday... FUNDAY\n",
    "            convertWeekend(img, outpattern)\n",
    "\n",
    "        elif abs(img.height-199) < 2:\n",
    "            # Weekday... workday\n",
    "            convertWeekday(img, outpattern)\n",
    "\n",
    "        else:\n",
    "            raise ValueError('Find out where you should be cropping: {}x{}'.format(img.height, img.width))\n",
    "    "
   ]
  },
  {
   "cell_type": "markdown",
   "metadata": {},
   "source": [
    "# Figure out Crop Locations"
   ]
  },
  {
   "cell_type": "code",
   "execution_count": null,
   "metadata": {
    "collapsed": false
   },
   "outputs": [],
   "source": [
    "filename = '/Users/ajmendez/Downloads/dilbert2012/dilbert20120102-colour.jpg'\n",
    "img = plt.imread(filename)\n",
    "img.shape\n",
    "plt.figure(figsize=(12,12))\n",
    "# plt.imshow(img[3:196,3:201,:], interpolation='nearest')\n",
    "xoffset = 0\n",
    "xoffset = 218\n",
    "# xoffset = 436\n",
    "xmin,xmax = [5,199]\n",
    "ymin,ymax = [2,196]\n",
    "plt.imshow(img[:,xoffset:xoffset+210,:], interpolation='nearest', alpha=0.5)\n",
    "print(xmax-xmin, ymax-ymin)\n",
    "plt.axvline(xmin, lw=0.5, color='r')\n",
    "plt.axvline(xmax, lw=0.5, color='r')\n",
    "plt.axhline(ymin, lw=0.5, color='r')\n",
    "plt.axhline(ymax, lw=0.5, color='r')"
   ]
  },
  {
   "cell_type": "code",
   "execution_count": null,
   "metadata": {
    "collapsed": false
   },
   "outputs": [],
   "source": [
    "filename = '/Users/ajmendez/Downloads/dilbert2012/dilbert20120101-colour.jpg'\n",
    "img = plt.imread(filename)\n",
    "img.shape\n",
    "plt.figure(figsize=(12,12))\n",
    "# plt.imshow(img[3:196,3:201,:], interpolation='nearest')\n",
    "xoffset = 0\n",
    "xoffset = 160\n",
    "xoffset = 322\n",
    "xoffset = 486\n",
    "yoffset = 0\n",
    "# yoffset = 149\n",
    "xmin,xmax = [9,145]\n",
    "ymin,ymax = [1,137]\n",
    "plt.imshow(img[yoffset:yoffset+200,xoffset:xoffset+210,:], interpolation='nearest', alpha=0.5)\n",
    "print(xmax-xmin, ymax-ymin)\n",
    "plt.axvline(xmin, lw=0.5, color='r')\n",
    "plt.axvline(xmax, lw=0.5, color='r')\n",
    "plt.axhline(ymin, lw=0.5, color='r')\n",
    "plt.axhline(ymax, lw=0.5, color='r')"
   ]
  },
  {
   "cell_type": "code",
   "execution_count": null,
   "metadata": {
    "collapsed": true
   },
   "outputs": [],
   "source": []
  }
 ],
 "metadata": {
  "kernelspec": {
   "display_name": "Python 3",
   "language": "python",
   "name": "python3"
  },
  "language_info": {
   "codemirror_mode": {
    "name": "ipython",
    "version": 3
   },
   "file_extension": ".py",
   "mimetype": "text/x-python",
   "name": "python",
   "nbconvert_exporter": "python",
   "pygments_lexer": "ipython3",
   "version": "3.5.2"
  }
 },
 "nbformat": 4,
 "nbformat_minor": 0
}
