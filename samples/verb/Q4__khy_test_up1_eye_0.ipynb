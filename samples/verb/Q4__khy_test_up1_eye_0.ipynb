{
 "cells": [
  {
   "cell_type": "code",
   "execution_count": 495,
   "metadata": {
    "collapsed": true
   },
   "outputs": [],
   "source": [
    "import plotly.plotly as py\n",
    "import plotly.graph_objs as go\n",
    "import json\n",
    "import plotly\n",
    "import math\n",
    "import numpy as np\n",
    "import scipy\n",
    "from scipy import signal\n",
    "import matplotlib.pyplot as plt\n",
    "plotly.tools.set_credentials_file(username='DDoLgi', api_key='uQWaeY4qf77SG6mMW2vJ')"
   ]
  },
  {
   "cell_type": "markdown",
   "metadata": {},
   "source": [
    "파일을 열어 모든 line을 스캔"
   ]
  },
  {
   "cell_type": "code",
   "execution_count": 496,
   "metadata": {},
   "outputs": [],
   "source": [
    "f1 = open('kmk_test_down1_eye_0.txt')\n",
    "lines = []\n",
    "lines.append(f1.readlines())\n",
    "f1.close()"
   ]
  },
  {
   "cell_type": "markdown",
   "metadata": {},
   "source": [
    "Json 형식을 읽어들임"
   ]
  },
  {
   "cell_type": "code",
   "execution_count": 497,
   "metadata": {
    "collapsed": true
   },
   "outputs": [],
   "source": [
    "data = []\n",
    "for i in range(len(lines)):\n",
    "    data.append([])\n",
    "    for j in range(len(lines[i])):\n",
    "        str = lines[i][j].replace(\"'\", '\"')[12:lines[i][j].rfind('}') + 1]\n",
    "        data[i].append(json.loads(str))\n",
    "        tintinPivot = lines[i][j].rfind(':')\n",
    "        data[i][j]['vection'] = float(lines[i][j][tintinPivot+2:-1])"
   ]
  },
  {
   "cell_type": "markdown",
   "metadata": {},
   "source": [
    "0부터 시작하도록 timestamp를 맞춰줌"
   ]
  },
  {
   "cell_type": "code",
   "execution_count": 498,
   "metadata": {
    "collapsed": true
   },
   "outputs": [],
   "source": [
    "for i in range(len(data)):\n",
    "    initial_timestamp = data[i][0]['timestamp']\n",
    "    for j in range(len(data[i])):\n",
    "        data[i][j]['timestamp'] -= initial_timestamp"
   ]
  },
  {
   "cell_type": "markdown",
   "metadata": {},
   "source": [
    "필요한 정보(position과 timestamp)를 가져온다. 이 때 confidence가 일정량 이하라면, 믿을 수 없는 데이터라 판단, 보간을 실행한다. 노이즈를 제거하기 위한 smoothing도 한다."
   ]
  },
  {
   "cell_type": "code",
   "execution_count": 499,
   "metadata": {
    "collapsed": true
   },
   "outputs": [],
   "source": [
    "timestamp = []\n",
    "horizontal_pos = []\n",
    "vertical_pos = []\n",
    "vection = []\n",
    "for i in range(len(data)):\n",
    "    timestamp.append([])\n",
    "    horizontal_pos.append([])\n",
    "    vertical_pos.append([])\n",
    "    vection.append([])\n",
    "    for j in range(len(data[i])):\n",
    "        timestamp[i].append(data[i][j]['timestamp'])\n",
    "        horizontal_pos[i].append(data[i][j]['norm_pos'][1])\n",
    "        vertical_pos[i].append(data[i][j]['norm_pos'][0])\n",
    "        vection[i].append(data[i][j]['vection'])\n",
    "    count = 0\n",
    "    former_h = 0\n",
    "    former_v = 0\n",
    "    latter_h = 0\n",
    "    latter_v = 0\n",
    "    \n",
    "    j = 0\n",
    "    for j in range(len(data[i])):\n",
    "        if data[i][j]['confidence'] < 0.7: #어디까지를 믿을만한 데이터로 볼지는 여기서 판단\n",
    "            if count == 0 and j != 0:\n",
    "                former_h = horizontal_pos[i][j - 1]\n",
    "                former_v = vertical_pos[i][j - 1]\n",
    "            count += 1\n",
    "            continue\n",
    "        elif count != 0:\n",
    "            latter_h = horizontal_pos[i][j]\n",
    "            latter_v = vertical_pos[i][j]\n",
    "            for k in range(count):\n",
    "                horizontal_pos[i][j - k - 1] = former_h + (latter_h - former_h) * (count - k) / (count + 1)\n",
    "                vertical_pos[i][j - k - 1] = former_v + (latter_v - former_v) * (count - k) / (count + 1)\n",
    "            former_h = 0\n",
    "            former_v = 0\n",
    "            latter_h = 0\n",
    "            latter_v = 0\n",
    "            count = 0\n",
    "    \n",
    "    horizontal_pos[i] = signal.savgol_filter(horizontal_pos[i], 5, 3)"
   ]
  },
  {
   "cell_type": "code",
   "execution_count": 500,
   "metadata": {
    "collapsed": true
   },
   "outputs": [],
   "source": [
    "vection_trace = go.Scatter(\n",
    "        x=timestamp[0],\n",
    "        y=vection[0],\n",
    "        yaxis='y2'\n",
    ")"
   ]
  },
  {
   "cell_type": "code",
   "execution_count": 501,
   "metadata": {
    "collapsed": true
   },
   "outputs": [],
   "source": [
    "horizontal_pos_trace = []\n",
    "for i in range(len(data)):\n",
    "    traceName = 'subject' + repr(i)\n",
    "    horizontal_pos_trace.append(go.Scatter(x=timestamp[i], y=horizontal_pos[i], name=traceName))\n",
    "    horizontal_pos_trace.append(vection_trace)"
   ]
  },
  {
   "cell_type": "markdown",
   "metadata": {},
   "source": [
    "## 가로 눈의 움직임-시간 그래프"
   ]
  },
  {
   "cell_type": "code",
   "execution_count": 502,
   "metadata": {
    "scrolled": true
   },
   "outputs": [
    {
     "name": "stdout",
     "output_type": "stream",
     "text": [
      "High five! You successfully sent some data to your account on plotly. View your plot in your browser at https://plot.ly/~DDoLgi/0 or inside your plot.ly account where it is named 'plot from API'\n"
     ]
    },
    {
     "data": {
      "text/html": [
       "<iframe id=\"igraph\" scrolling=\"no\" style=\"border:none;\" seamless=\"seamless\" src=\"https://plot.ly/~DDoLgi/0.embed\" height=\"525px\" width=\"100%\"></iframe>"
      ],
      "text/plain": [
       "<plotly.tools.PlotlyDisplay object>"
      ]
     },
     "execution_count": 502,
     "metadata": {},
     "output_type": "execute_result"
    }
   ],
   "source": [
    "horizontal_pos_data=go.Data(horizontal_pos_trace)\n",
    "horizontal_pos_layout=go.Layout(title=\"Horizontal Position\", xaxis={'title':'time'}, yaxis={'title':'position'}, yaxis2=dict(overlaying='y', side='right'))\n",
    "horizontal_pos_figure=go.Figure(data=horizontal_pos_data,layout=horizontal_pos_layout)\n",
    "py.iplot(horizontal_pos_figure)"
   ]
  },
  {
   "cell_type": "markdown",
   "metadata": {},
   "source": [
    "비슷한 방식으로 시간-(세로눈위치) 그래프 생성"
   ]
  },
  {
   "cell_type": "code",
   "execution_count": 503,
   "metadata": {
    "collapsed": true
   },
   "outputs": [],
   "source": [
    "vertical_pos_trace = []\n",
    "for i in range(len(data)):\n",
    "    traceName = 'subject' + repr(i)\n",
    "    vertical_pos_trace.append(go.Scatter(x=timestamp[i], y=vertical_pos[i], name=traceName))\n",
    "    vertical_pos_trace.append(vection_trace)"
   ]
  },
  {
   "cell_type": "markdown",
   "metadata": {},
   "source": [
    "## 세로 눈의 움직임-시간 그래프"
   ]
  },
  {
   "cell_type": "code",
   "execution_count": 504,
   "metadata": {},
   "outputs": [
    {
     "data": {
      "text/html": [
       "<iframe id=\"igraph\" scrolling=\"no\" style=\"border:none;\" seamless=\"seamless\" src=\"https://plot.ly/~DDoLgi/2.embed\" height=\"525px\" width=\"100%\"></iframe>"
      ],
      "text/plain": [
       "<plotly.tools.PlotlyDisplay object>"
      ]
     },
     "execution_count": 504,
     "metadata": {},
     "output_type": "execute_result"
    }
   ],
   "source": [
    "vertical_pos_data=go.Data(vertical_pos_trace)\n",
    "vertical_pos_layout=go.Layout(title=\"Vertical Position\", xaxis={'title':'time'}, yaxis={'title':'position'}, yaxis2=dict(overlaying='y', side='right'))\n",
    "vertical_pos_figure=go.Figure(data=vertical_pos_data,layout=vertical_pos_layout)\n",
    "py.iplot(vertical_pos_figure, filename='pyguide_2')"
   ]
  },
  {
   "cell_type": "markdown",
   "metadata": {},
   "source": [
    "눈을 하나의 unit sphere라고 생각하여, 그 구 표면에 pupil이 있다고 가정하자.<br />\n",
    "pupil labs에서 주어지는 normpos는 [0,1]까지의 범위를 갖고 있다. 이것을 인용할 논문(A simple pupil-independent method for recording eye movements in rodents using video)이 사용한 범위([-1, 1])로 고쳐내자.<br />\n",
    "위 논문에 의하면 눈이 중심에 있을 때의 위치와 현재 위치의 차이를 구한 다음 그것을 반지름으로 나누고 있다((Z - Z0)/r).<br />\n",
    "norm_pos는 0부터 2r까지의 범위를 가질 수 있는 눈의 위치를 2r로 나누어 0~1을 만든 것으로 추정됨.\n",
    "따라서 norm_pos의 값은 Z/2r, 중심이라 할 수 있는 눈의 위치는 Z0/2r. 그렇다면 중심위치를 가정한다음 norm_pos에서 그것을 빼고, 2를 곱하면 논문에서 쓰였던 벡터의 성분을 구할 수 있을 것이다. Z0의 좌표를 (0.5, 0.5)라 가정한다면 Mz = (norm_pos - 0.5) * 2"
   ]
  },
  {
   "cell_type": "code",
   "execution_count": 505,
   "metadata": {},
   "outputs": [],
   "source": [
    "angular_vector = []\n",
    "for i in range(len(data)):\n",
    "    angular_vector.append([])\n",
    "    for j in range(len(data[i])):\n",
    "        angular_vector[i].append([])\n",
    "        angular_vector[i][j] = [0, (horizontal_pos[i][j] * 2 - 1), (vertical_pos[i][j] * 2 - 1)]\n",
    "        angular_vector[i][j][0] = math.sqrt(1 - math.pow(angular_vector[i][j][1], 2) - math.pow(angular_vector[i][j][2], 2))"
   ]
  },
  {
   "cell_type": "markdown",
   "metadata": {},
   "source": [
    "그 후 논문에 따르면, Fick Gimbal에서 Horizontal 회전을 담당하는 세타, Vertical 회전을 담당하는 파이는 각각 이렇게 구할 수 있다."
   ]
  },
  {
   "attachments": {
    "%EC%BA%A1%EC%B2%98.PNG": {
     "image/png": "[encoded data removed]"
    }
   },
   "cell_type": "markdown",
   "metadata": {},
   "source": [
    "![%EC%BA%A1%EC%B2%98.PNG](attachment:%EC%BA%A1%EC%B2%98.PNG)"
   ]
  },
  {
   "cell_type": "code",
   "execution_count": 506,
   "metadata": {
    "collapsed": true
   },
   "outputs": [],
   "source": [
    "theta = []\n",
    "phi = []\n",
    "for i in range(len(data)):\n",
    "    theta.append([])\n",
    "    phi.append([])\n",
    "    for j in range(len(data[i])):\n",
    "        theta[i].append(math.degrees(np.arctan(angular_vector[i][j][1] / angular_vector[i][j][0])))\n",
    "        phi[i].append(math.degrees(-1 * np.arcsin(angular_vector[i][j][2])))"
   ]
  },
  {
   "cell_type": "code",
   "execution_count": 507,
   "metadata": {
    "collapsed": true
   },
   "outputs": [],
   "source": [
    "theta_trace = []\n",
    "phi_trace = []\n",
    "for i in range(len(data)):\n",
    "    traceName = 'subject' + repr(i)\n",
    "    theta_trace.append(go.Scatter(x=timestamp[i], y=theta[i], name=traceName))\n",
    "    phi_trace.append(go.Scatter(x=timestamp[i], y=phi[i], name=traceName))\n",
    "    theta_trace.append(vection_trace)\n",
    "    phi_trace.append(vection_trace)"
   ]
  },
  {
   "cell_type": "code",
   "execution_count": 508,
   "metadata": {
    "collapsed": true
   },
   "outputs": [],
   "source": [
    "theta_data=go.Data(theta_trace)\n",
    "theta_layout=go.Layout(title=\"theta-time\", xaxis={'title':'time'}, yaxis={'title':'position'}, yaxis2=dict(overlaying='y', side='right'))\n",
    "theta_figure=go.Figure(data=theta_data,layout=theta_layout)\n",
    "phi_data=go.Data(phi_trace)\n",
    "phi_layout=go.Layout(title=\"phi-time\", xaxis={'title':'time'}, yaxis={'title':'position'}, yaxis2=dict(overlaying='y', side='right'))\n",
    "phi_figure=go.Figure(data=phi_data,layout=phi_layout)"
   ]
  },
  {
   "cell_type": "markdown",
   "metadata": {},
   "source": [
    "## theta(가로) 방향 각도 움직임 - 시간 그래프"
   ]
  },
  {
   "cell_type": "code",
   "execution_count": 509,
   "metadata": {
    "scrolled": true
   },
   "outputs": [
    {
     "data": {
      "text/html": [
       "<iframe id=\"igraph\" scrolling=\"no\" style=\"border:none;\" seamless=\"seamless\" src=\"https://plot.ly/~DDoLgi/4.embed\" height=\"525px\" width=\"100%\"></iframe>"
      ],
      "text/plain": [
       "<plotly.tools.PlotlyDisplay object>"
      ]
     },
     "execution_count": 509,
     "metadata": {},
     "output_type": "execute_result"
    }
   ],
   "source": [
    "py.iplot(theta_figure, filename='pyguide_1')"
   ]
  },
  {
   "cell_type": "markdown",
   "metadata": {},
   "source": [
    "## phi(세로) 방향 각도 움직임 - 시간 그래프"
   ]
  },
  {
   "cell_type": "code",
   "execution_count": 510,
   "metadata": {},
   "outputs": [
    {
     "data": {
      "text/html": [
       "<iframe id=\"igraph\" scrolling=\"no\" style=\"border:none;\" seamless=\"seamless\" src=\"https://plot.ly/~DDoLgi/4.embed\" height=\"525px\" width=\"100%\"></iframe>"
      ],
      "text/plain": [
       "<plotly.tools.PlotlyDisplay object>"
      ]
     },
     "execution_count": 510,
     "metadata": {},
     "output_type": "execute_result"
    }
   ],
   "source": [
    "py.iplot(phi_figure, filename='pyguide_1')"
   ]
  },
  {
   "cell_type": "markdown",
   "metadata": {},
   "source": [
    "이후 각을 시간에 대해 미분하여 각속도를 구한다."
   ]
  },
  {
   "cell_type": "code",
   "execution_count": 511,
   "metadata": {
    "collapsed": true
   },
   "outputs": [],
   "source": [
    "theta_vel = []\n",
    "theta_vel_trace = []\n",
    "phi_vel = []\n",
    "phi_vel_trace = []\n",
    "for i in range(len(data)):\n",
    "    theta_vel.append([np.zeros(np.array(theta[i]).shape, np.float)])\n",
    "    theta_vel[i][0:-1] = np.diff(theta[i])/np.diff(timestamp[i])\n",
    "    theta_vel[i][-1] = (theta[i][-1] - theta[i][-2])/(timestamp[i][-1] - timestamp[i][-2])\n",
    "    theta_vel_trace.append(go.Scatter(x=timestamp[i], y=theta_vel[i], name='subject' + repr(i)))\n",
    "    \n",
    "    phi_vel.append([np.zeros(np.array(phi[i]).shape, np.float)])\n",
    "    phi_vel[i][0:-1] = np.diff(phi[i])/np.diff(timestamp[i])\n",
    "    phi_vel[i][-1] = (phi[i][-1] - phi[i][-2])/(timestamp[i][-1] - timestamp[i][-2])\n",
    "    phi_vel_trace.append(go.Scatter(x=timestamp[i], y=phi_vel[i], name='subject' + repr(i)))"
   ]
  },
  {
   "cell_type": "code",
   "execution_count": 512,
   "metadata": {
    "collapsed": true
   },
   "outputs": [],
   "source": [
    "theta_vel_trace.append(vection_trace)\n",
    "phi_vel_trace.append(vection_trace)\n",
    "\n",
    "theta_vel_data=go.Data(theta_vel_trace)\n",
    "theta_vel_layout=go.Layout(title=\"theta vel - time\", xaxis={'title':'time'}, yaxis={'title':'deg/s'}, yaxis2=dict(overlaying='y', side='right'))\n",
    "theta_vel_figure=go.Figure(data=theta_vel_data,layout=theta_vel_layout)\n",
    "\n",
    "phi_vel_data=go.Data(phi_vel_trace)\n",
    "phi_vel_layout=go.Layout(title=\"phi vel - time\", xaxis={'title':'time'}, yaxis={'title':'deg/s'}, yaxis2=dict(overlaying='y', side='right'))\n",
    "phi_vel_figure=go.Figure(data=phi_vel_data,layout=phi_vel_layout)"
   ]
  },
  {
   "cell_type": "markdown",
   "metadata": {},
   "source": [
    "## 세타 각 속도 - 시간 그래프"
   ]
  },
  {
   "cell_type": "code",
   "execution_count": 513,
   "metadata": {
    "scrolled": true
   },
   "outputs": [
    {
     "data": {
      "text/html": [
       "<iframe id=\"igraph\" scrolling=\"no\" style=\"border:none;\" seamless=\"seamless\" src=\"https://plot.ly/~DDoLgi/4.embed\" height=\"525px\" width=\"100%\"></iframe>"
      ],
      "text/plain": [
       "<plotly.tools.PlotlyDisplay object>"
      ]
     },
     "execution_count": 513,
     "metadata": {},
     "output_type": "execute_result"
    }
   ],
   "source": [
    "py.iplot(theta_vel_figure, filename='pyguide_1')"
   ]
  },
  {
   "cell_type": "markdown",
   "metadata": {},
   "source": [
    "## 파이 각 속도 - 시간 그래프"
   ]
  },
  {
   "cell_type": "code",
   "execution_count": 514,
   "metadata": {
    "scrolled": true
   },
   "outputs": [
    {
     "data": {
      "text/html": [
       "<iframe id=\"igraph\" scrolling=\"no\" style=\"border:none;\" seamless=\"seamless\" src=\"https://plot.ly/~DDoLgi/4.embed\" height=\"525px\" width=\"100%\"></iframe>"
      ],
      "text/plain": [
       "<plotly.tools.PlotlyDisplay object>"
      ]
     },
     "execution_count": 514,
     "metadata": {},
     "output_type": "execute_result"
    }
   ],
   "source": [
    "py.iplot(phi_vel_figure, filename='pyguide_1')"
   ]
  },
  {
   "cell_type": "code",
   "execution_count": null,
   "metadata": {
    "collapsed": true
   },
   "outputs": [],
   "source": []
  }
 ],
 "metadata": {
  "kernelspec": {
   "display_name": "Python 3",
   "language": "python",
   "name": "python3"
  },
  "language_info": {
   "codemirror_mode": {
    "name": "ipython",
    "version": 3
   },
   "file_extension": ".py",
   "mimetype": "text/x-python",
   "name": "python",
   "nbconvert_exporter": "python",
   "pygments_lexer": "ipython3",
   "version": "3.6.3"
  }
 },
 "nbformat": 4,
 "nbformat_minor": 2
}
