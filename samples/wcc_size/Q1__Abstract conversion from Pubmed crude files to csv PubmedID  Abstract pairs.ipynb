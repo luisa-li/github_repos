{
 "cells": [
  {
   "cell_type": "markdown",
   "metadata": {},
   "source": [
    "This script quite reliably converts crude files from Pubmed search into .csv files that only contain the pubmedID / abstract-text pairs. This way, large amounts of abstracts can be fed into annotation / NLP pipelines. \n",
    "\n",
    "1. Use Pubmed advanced search to find relevant publications (pubmed.com)\n",
    "2. Download results (abstracts) as a text file with the 'send to' option\n",
    "3. Run this script"
   ]
  },
  {
   "cell_type": "code",
   "execution_count": 1,
   "metadata": {
    "collapsed": true
   },
   "outputs": [],
   "source": [
    "def absmassage():\n",
    "    import codecs\n",
    "    import re\n",
    "    import os\n",
    "    import pandas as pd\n",
    "    \n",
    "    inpath = input(\"Path to input file (Pubmed Download): \")\n",
    "    outpath = input(\"Path to store output file: \")\n",
    "    outname = input(\"Filename for output: \")\n",
    "\n",
    "    abstracts = codecs.open(inpath,'r', encoding='UTF-8')\n",
    "    abs_ex = []\n",
    "    abs_dict = {}\n",
    "    pmid = \"\"\n",
    "    abs_joined = \"\"\n",
    "    x=0\n",
    "    y=0\n",
    "    bad_words = ['Comment', 'Erratum']\n",
    "\n",
    "#go through text until you find the author information line.\n",
    "#the abstract follows after the next empty line\n",
    "#copy abstract in dictionary value\n",
    "#find corresponding pubmed ID and assign it to the value as the key\n",
    "\n",
    "    for line in abstracts:\n",
    "        if 'Author information' in line:\n",
    "            x=1\n",
    "        if 'DOI:'in line:\n",
    "            y=0\n",
    "        elif len(line.strip()) == 0 and x==1:\n",
    "            y=1\n",
    "            x=0\n",
    "        if y==1 and not len(line.strip()) == 0:   \n",
    "            abs_ex.append(line)\n",
    "        if 'PMID' in line :\n",
    "            pmid = ''.join(re.findall('\\d+', line ))\n",
    "            clean_abs = ''.join(abs_ex)\n",
    "            abs_dict[pmid] = clean_abs.replace('\\n', ' ').replace('\\xa0',' ')\n",
    "            abs_ex = []    \n",
    "\n",
    "#some results are merely erratums and comments, let's kick them out.\n",
    "#we can't do this easily with a loop as the dictionary size has to stay constant\n",
    "#so we replace the bad entries with empty spaces and then make a new, clean dictionary that\n",
    "#at the same time removes all empty values that have occured earlier.\n",
    "\n",
    "    for key, value in abs_dict.items():\n",
    "        for word in bad_words:\n",
    "            if word in value:\n",
    "                abs_dict[key] = ''\n",
    "\n",
    "    abs_dict_clean = {k: v for k, v in abs_dict.items() if v}\n",
    "\n",
    "#convert final clean dictionary into csv file.\n",
    "\n",
    "    out = [outpath + outname + '.csv']\n",
    "    outfile = ''.join(out)\n",
    "    (pd.DataFrame.from_dict(data=abs_dict_clean, orient='index').\n",
    "    to_csv(outfile, header=False))\n",
    "\n",
    "absmassage()"
   ]
  }
 ],
 "metadata": {
  "kernelspec": {
   "display_name": "Python 3",
   "language": "python",
   "name": "python3"
  },
  "language_info": {
   "codemirror_mode": {
    "name": "ipython",
    "version": 3
   },
   "file_extension": ".py",
   "mimetype": "text/x-python",
   "name": "python",
   "nbconvert_exporter": "python",
   "pygments_lexer": "ipython3",
   "version": "3.6.2"
  }
 },
 "nbformat": 4,
 "nbformat_minor": 2
}
