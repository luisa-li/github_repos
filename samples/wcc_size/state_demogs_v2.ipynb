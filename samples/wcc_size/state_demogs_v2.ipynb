{
 "cells": [
  {
   "cell_type": "code",
   "execution_count": 1,
   "metadata": {},
   "outputs": [],
   "source": [
    "# Import Dependencies\n",
    "import pandas as pd\n",
    "import matplotlib.pyplot as plt"
   ]
  },
  {
   "cell_type": "code",
   "execution_count": null,
   "metadata": {},
   "outputs": [],
   "source": [
    "# For reading in csvs and cutting off useless cells\n",
    "def csv_extractor(state):\n",
    "    path = 'Demographics/' + state + '_demog.csv'\n",
    "    df = pd.read_csv(path, encoding='Latin-1')\n",
    "    df = df.iloc[ : , 0 : 8]\n",
    "    df = df.loc[df['YEAR'] > 2, : ]\n",
    "    return df\n",
    "\n",
    "# Easy peasy csv reading\n",
    "co_df = csv_extractor('Colorado')\n",
    "wa_df = csv_extractor('Washington')\n",
    "ak_df = csv_extractor('Alaska')\n",
    "or_df = csv_extractor('Oregon')\n",
    "mi_df = csv_extractor('Michigan')\n",
    "mo_df = csv_extractor('Missouri')\n",
    "nj_df = csv_extractor('NewJersey')\n",
    "va_df = csv_extractor('Virginia')\n",
    "ok_df = csv_extractor('Oklahoma')\n",
    "ut_df = csv_extractor('Utah')\n",
    "\n",
    "state_dict = {'Colorado' : co_df,\n",
    "             'Washington' : wa_df,\n",
    "             'Alaska' : ak_df,\n",
    "             'Oregon' : or_df,\n",
    "             'Michigan' : mi_df,\n",
    "             'Missouri' : mo_df,\n",
    "             'New Jersey' : nj_df,\n",
    "             'Virginia' : va_df,\n",
    "             'Oklahoma' : ok_df,\n",
    "             'Utah' : ut_df}\n",
    "\n",
    "# CSV containing urban/rural info by county\n",
    "urban_path = 'Demographics/PctUrbanRural_County.txt'\n",
    "urban_df = pd.read_csv(urban_path, encoding='Latin-1')"
   ]
  },
  {
   "cell_type": "code",
   "execution_count": null,
   "metadata": {},
   "outputs": [],
   "source": [
    "# Function returning only counties within a given range of urban percentages\n",
    "def urban_slice(df, target_state, high, low):\n",
    "    \n",
    "    try:\n",
    "        # The urban_df covers the whole US, need to specify\n",
    "        state_urban_df = urban_df.loc[urban_df['STATENAME'] == target_state, : ]\n",
    "\n",
    "        # Get number of entries per county\n",
    "        unique_counties = df['CTYNAME'].value_counts()[0]\n",
    "\n",
    "        county_list = []\n",
    "\n",
    "        # Build list of urban percentages for main state dataframe\n",
    "        for i, j in state_urban_df.iterrows():\n",
    "            county = j[7]\n",
    "            for k in range(unique_counties):\n",
    "                county_list.append(county)\n",
    "\n",
    "        # Add urban percentages to main state df, slice by passed boundaries\n",
    "        df['urban_percent'] = county_list\n",
    "        df_urban_percent = df.loc[df['urban_percent'] < high, :]\n",
    "        df_urban_percent = df_urban_percent.loc[df['urban_percent'] > low, :]\n",
    "\n",
    "        return df_urban_percent\n",
    "    \n",
    "    except:\n",
    "        print(f'ValueError in {target_state}')"
   ]
  },
  {
   "cell_type": "code",
   "execution_count": null,
   "metadata": {},
   "outputs": [],
   "source": [
    "# Graph of total population change over 2010-2016 for passed df\n",
    "def total_graph(df, area):\n",
    "    \n",
    "    try:\n",
    "        # AGEGRP 0 is total\n",
    "        tot = df.loc[df['AGEGRP'] == 0, ]\n",
    "\n",
    "        tot_group_year = tot.groupby('YEAR')\n",
    "        tot_group_year = tot_group_year.sum()\n",
    "        tot_group_year.reset_index(inplace=True)\n",
    "\n",
    "        tot_group_year.plot('YEAR', 'TOT_POP', figsize=(18,9))\n",
    "    \n",
    "\n",
    "        plt.title(f'Total population of {area}')\n",
    "    except:\n",
    "        return f'TypeError for {area}!'"
   ]
  },
  {
   "cell_type": "code",
   "execution_count": null,
   "metadata": {},
   "outputs": [],
   "source": [
    "# Plot of population of passed df sorted by age group\n",
    "def age_graph(df, area, threshold):\n",
    "    \n",
    "    # Age groups as provided by the census bureau\n",
    "    legend_dict = {0 :'Age 0 to 4 years',\n",
    "            1 : 'Age 5 to 9 years',\n",
    "            2 : 'Age 10 to 14 years',\n",
    "            3 : 'Age 15 to 19 years',\n",
    "            4 : 'Age 20 to 24 years',\n",
    "            5 : 'Age 25 to 29 years',\n",
    "            6 : 'Age 30 to 34 years',\n",
    "            7 : 'Age 35 to 39 years',\n",
    "            8 : 'Age 40 to 44 years',\n",
    "            9 : 'Age 45 to 49 years',\n",
    "            10 : 'Age 50 to 54 years',\n",
    "            11 : 'Age 55 to 59 years',\n",
    "            12 : 'Age 60 to 64 years',\n",
    "            13 : 'Age 65 to 69 years',\n",
    "            14 : 'Age 70 to 74 years',\n",
    "            15 : 'Age 75 to 79 years',\n",
    "            16 : 'Age 80 to 84 years',\n",
    "            17 : 'Age 85 years or older'}\n",
    "    \n",
    "    # Build list of dataframes, each entry in list is a different age group\n",
    "    index = [x + 1 for x in range(18)]\n",
    "    age_list = []\n",
    "    \n",
    "    for i in index:\n",
    "        age = df.loc[df['AGEGRP'] == i].groupby('YEAR').sum()\n",
    "        age.reset_index(inplace=True)\n",
    "        age_list.append(age)\n",
    "    \n",
    "    # Init plot\n",
    "    fig, ax = plt.subplots(figsize=(18,9))\n",
    "    \n",
    "    for age in range(len(age_list)):\n",
    "        \n",
    "        # Find pop at beginning and end of 2010-2016 for each age group\n",
    "        begin_pop = age_list[age].get_value(0, 'TOT_POP')\n",
    "        end_pop = age_list[age].get_value(6, 'TOT_POP')\n",
    "        \n",
    "        # Find change in pop for each age group\n",
    "        diff = abs(end_pop - begin_pop) * 100\n",
    "        threshcheck = diff / begin_pop\n",
    "        \n",
    "        # Compare change in pop to passed threshold, drop age groups that did not change enough to be of interest\n",
    "        if threshold == None:\n",
    "            ax.plot(age_list[age]['YEAR'], age_list[age]['TOT_POP'], label=legend_dict[age])\n",
    "            \n",
    "        elif threshcheck > threshold:\n",
    "            ax.plot(age_list[age]['YEAR'], age_list[age]['TOT_POP'], label=legend_dict[age])  \n",
    "            \n",
    "    # Plot\n",
    "    plt.title(f'Population by age in {area}')\n",
    "    plt.grid()\n",
    "    plt.legend()\n"
   ]
  },
  {
   "cell_type": "code",
   "execution_count": null,
   "metadata": {},
   "outputs": [],
   "source": [
    "# Plot average age over 2010-2016 in passed df\n",
    "def avg_age_graph(df):\n",
    "    \n",
    "    # Drop AGEGRP 0 because that is total pop\n",
    "    age_df = df.loc[df['AGEGRP'] > 0, : ]\n",
    "    \n",
    "    # Create list of dataframes, each df is a year (3-10 is 2010-2017)\n",
    "    mean_age_list = []\n",
    "    \n",
    "    for i in range(3, 10):\n",
    "        age = age_df.loc[age_df['YEAR'] == i].groupby('AGEGRP').sum()\n",
    "        mean_age_list.append(age)\n",
    "        \n",
    "    # Create list of dataframes to help calculate avg age\n",
    "    avg_age_list = []\n",
    "\n",
    "    for year_data in mean_age_list:\n",
    "        \n",
    "        # Population x age for our avg age calculation\n",
    "        year_data['POP*AGE'] = 0\n",
    "\n",
    "        year_data.reset_index(inplace=True)\n",
    "        \n",
    "        for index, row in year_data.iterrows():\n",
    "            \n",
    "            # Use index to produce list of avg ages in each age group (0-4 = 2, 5-9 = 7, etc.)\n",
    "            age = (2 + (row[0] * 5)) - 5\n",
    "            \n",
    "            # Find population x age and add to df\n",
    "            numerator = row[0] * row[5]            \n",
    "            year_data.set_value(index, 'POP*AGE', numerator)            \n",
    "        \n",
    "        # Calculate avg age for current loop's year\n",
    "        agg_years = year_data['POP*AGE'].sum()\n",
    "        tot_pop = year_data['TOT_POP'].sum()\n",
    "        avg_age = agg_years / tot_pop\n",
    "        \n",
    "        # Add average age for the year to list \n",
    "        avg_age_list.append(avg_age)\n",
    "    \n",
    "    # Convert list of average ages to Pandas series and plot\n",
    "    avg_age_list = pd.Series(avg_age_list)\n",
    "    avg_age_list.plot.line()\n"
   ]
  },
  {
   "cell_type": "markdown",
   "metadata": {},
   "source": [
    "<h1>Guide</h1>"
   ]
  },
  {
   "cell_type": "markdown",
   "metadata": {},
   "source": [
    "Currently loaded dataframes : Colorado, Washington, Alaska, Oregon.  <br>\n",
    "<br>\n",
    "<big><big><b> Functions: </b></big></big>\n",
    "\n",
    "<big>Function:  urban_slice </big><br>\n",
    "Return a slice of the state dataframe only containing counties with a certain \"urban percentage\".\n",
    "\n",
    "arguments:  (df, target_state, high, low) <br>\n",
    "df           =   Name of state's dataframe (e.g. co_df for colorado, ak_df for alaska) <br>\n",
    "target_state =   State name in the form of a string (e.g. 'Colorado', 'Alaska') <br>\n",
    "high         =   Upper-boundary of \"urban percentage\"\n",
    "low          =   Lower-boundary of \"urban percentage\""
   ]
  },
  {
   "cell_type": "code",
   "execution_count": null,
   "metadata": {},
   "outputs": [],
   "source": [
    "# Example\n",
    "example = urban_slice(or_df, 'Oregon', 75, 50)\n",
    "example.head()"
   ]
  },
  {
   "cell_type": "markdown",
   "metadata": {},
   "source": [
    "<big><big>Function:  total_graph </big></big><br>\n",
    "Generates a plot of total population over 2010-2016.  Not very useful unless used along with urban_slice.\n",
    "\n",
    "arguments:  (df, area) <br>\n",
    "df           =   Name of state's dataframe (e.g. co_df for colorado, ak_df for alaska) <br>\n",
    "area         =   Name of the area.  This will only appear in the title of the plot and doesn't matter much"
   ]
  },
  {
   "cell_type": "code",
   "execution_count": null,
   "metadata": {},
   "outputs": [],
   "source": [
    "# Example\n",
    "total_graph(co_df, \"'Rado, Dude\")"
   ]
  },
  {
   "cell_type": "code",
   "execution_count": null,
   "metadata": {},
   "outputs": [],
   "source": [
    "# Much better example\n",
    "total_graph(urban_slice(co_df, 'Colorado', 40, 20), \"the rural parts of 'Rado, Derd\")"
   ]
  },
  {
   "cell_type": "markdown",
   "metadata": {},
   "source": [
    "<big><big>Function:  age_graph </big></big><br>\n",
    "Generate a plot of population change over 2010-2016, separated by age group.\n",
    "\n",
    "arguments:  (df, area, threshold) <br>\n",
    "df           =   Name of state's dataframe (e.g. co_df for colorado, ak_df for alaska) <br>\n",
    "area         =   Same as the total_graph function. Just for the plot title, doesn't matter much. <br>\n",
    "threshold    =   This allows you to limit how many lines are drawn on the plot.  If you only want to see lines where the change in population over the 6 years (positive or negative) is %20, you would input 20 here."
   ]
  },
  {
   "cell_type": "code",
   "execution_count": null,
   "metadata": {},
   "outputs": [],
   "source": [
    "# Example\n",
    "age_graph(ak_df, 'Alaska', 15)"
   ]
  },
  {
   "cell_type": "markdown",
   "metadata": {},
   "source": [
    "<big><big>Function:  avg_age_graph </big></big><br>\n",
    "Generate a plot of average age over 2010-2016.\n",
    "\n",
    "arguments:  (df, area) <br>\n",
    "df           =   Name of state's dataframe (e.g. co_df for colorado, ak_df for alaska) <br>\n"
   ]
  },
  {
   "cell_type": "code",
   "execution_count": null,
   "metadata": {},
   "outputs": [],
   "source": [
    "# Example\n",
    "avg_age_graph(urban_slice(wa_df, 'Washington', 50, 25))"
   ]
  },
  {
   "cell_type": "code",
   "execution_count": null,
   "metadata": {
    "scrolled": false
   },
   "outputs": [],
   "source": [
    "for key in state_dict:\n",
    "    high = 20\n",
    "    low = 10\n",
    "    total_graph(urban_slice(state_dict[key], key, high, low), f\"{key} in counties with urban percentage between {low} and {high} \")\n"
   ]
  },
  {
   "cell_type": "code",
   "execution_count": null,
   "metadata": {
    "scrolled": false
   },
   "outputs": [],
   "source": [
    "for key in state_dict:\n",
    "    try:\n",
    "        high = 100\n",
    "        low = 90\n",
    "        age_graph(urban_slice(state_dict[key], key, high, low), key, 15)\n",
    "    except:\n",
    "        print(f'error with {key}')"
   ]
  },
  {
   "cell_type": "code",
   "execution_count": null,
   "metadata": {},
   "outputs": [],
   "source": [
    "for key in state_dict:\n",
    "    try:\n",
    "        high = 20\n",
    "        low = 10\n",
    "        avg_age_graph(urban_slice(state_dict[key], key, high, low))\n",
    "    except:\n",
    "        print(f'error with {key}')"
   ]
  },
  {
   "cell_type": "code",
   "execution_count": null,
   "metadata": {},
   "outputs": [],
   "source": []
  },
  {
   "cell_type": "code",
   "execution_count": 2,
   "metadata": {},
   "outputs": [
    {
     "ename": "SyntaxError",
     "evalue": "invalid syntax (<ipython-input-2-696e334810e9>, line 1)",
     "output_type": "error",
     "traceback": [
      "\u001b[1;36m  File \u001b[1;32m\"<ipython-input-2-696e334810e9>\"\u001b[1;36m, line \u001b[1;32m1\u001b[0m\n\u001b[1;33m    test = {'hello' : world = ''}\u001b[0m\n\u001b[1;37m                            ^\u001b[0m\n\u001b[1;31mSyntaxError\u001b[0m\u001b[1;31m:\u001b[0m invalid syntax\n"
     ]
    }
   ],
   "source": [
    "test = {'hello' : world = ''}"
   ]
  },
  {
   "cell_type": "code",
   "execution_count": null,
   "metadata": {},
   "outputs": [],
   "source": [
    "test['hello'] = pd.DataFrame({'a' : [1,2,3], 'b' : [4,5,6]})"
   ]
  },
  {
   "cell_type": "code",
   "execution_count": null,
   "metadata": {},
   "outputs": [],
   "source": [
    "print(test['hello'])"
   ]
  },
  {
   "cell_type": "code",
   "execution_count": null,
   "metadata": {},
   "outputs": [],
   "source": []
  }
 ],
 "metadata": {
  "kernelspec": {
   "display_name": "Python 3",
   "language": "python",
   "name": "python3"
  },
  "language_info": {
   "codemirror_mode": {
    "name": "ipython",
    "version": 3
   },
   "file_extension": ".py",
   "mimetype": "text/x-python",
   "name": "python",
   "nbconvert_exporter": "python",
   "pygments_lexer": "ipython3",
   "version": "3.6.4"
  }
 },
 "nbformat": 4,
 "nbformat_minor": 2
}
